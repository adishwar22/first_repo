{
 "cells": [
  {
   "cell_type": "markdown",
   "id": "300b54d3-efee-4dd1-b1bc-ba5a9157e450",
   "metadata": {},
   "source": [
    "## My First Jupiter"
   ]
  },
  {
   "cell_type": "code",
   "execution_count": 1,
   "id": "76d29eca-049c-41db-97dd-2d3184afaa1a",
   "metadata": {
    "tags": []
   },
   "outputs": [
    {
     "data": {
      "text/plain": [
       "2"
      ]
     },
     "execution_count": 1,
     "metadata": {},
     "output_type": "execute_result"
    }
   ],
   "source": [
    "1+1"
   ]
  },
  {
   "cell_type": "code",
   "execution_count": 2,
   "id": "c158f3c8-b131-46d7-a14b-61742f0c9fa7",
   "metadata": {},
   "outputs": [
    {
     "data": {
      "text/plain": [
       "0.75"
      ]
     },
     "execution_count": 2,
     "metadata": {},
     "output_type": "execute_result"
    }
   ],
   "source": [
    "6/8"
   ]
  },
  {
   "cell_type": "code",
   "execution_count": 3,
   "id": "510267da-550d-40fe-96e2-fe327fc7c266",
   "metadata": {},
   "outputs": [
    {
     "data": {
      "text/plain": [
       "6"
      ]
     },
     "execution_count": 3,
     "metadata": {},
     "output_type": "execute_result"
    }
   ],
   "source": [
    "6%8"
   ]
  },
  {
   "cell_type": "code",
   "execution_count": 4,
   "id": "80a26fc5-5300-485b-ad4f-f58e0cbedf7d",
   "metadata": {},
   "outputs": [
    {
     "data": {
      "text/plain": [
       "2520"
      ]
     },
     "execution_count": 4,
     "metadata": {},
     "output_type": "execute_result"
    }
   ],
   "source": [
    "56*45"
   ]
  },
  {
   "cell_type": "code",
   "execution_count": 6,
   "id": "84a50006-58b8-4f5e-a667-fa1a1821a3b6",
   "metadata": {},
   "outputs": [
    {
     "data": {
      "text/plain": [
       "-5"
      ]
     },
     "execution_count": 6,
     "metadata": {},
     "output_type": "execute_result"
    }
   ],
   "source": [
    "4-9"
   ]
  },
  {
   "cell_type": "code",
   "execution_count": null,
   "id": "68115049-5d30-4315-9ad8-86af32e31b97",
   "metadata": {},
   "outputs": [],
   "source": []
  }
 ],
 "metadata": {
  "kernelspec": {
   "display_name": "Python",
   "language": "python",
   "name": "conda-env-python-py"
  },
  "language_info": {
   "codemirror_mode": {
    "name": "ipython",
    "version": 3
   },
   "file_extension": ".py",
   "mimetype": "text/x-python",
   "name": "python",
   "nbconvert_exporter": "python",
   "pygments_lexer": "ipython3",
   "version": "3.7.12"
  }
 },
 "nbformat": 4,
 "nbformat_minor": 5
}
